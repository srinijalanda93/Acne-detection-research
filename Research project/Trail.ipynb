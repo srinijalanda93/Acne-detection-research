{
 "cells": [
  {
   "cell_type": "code",
   "execution_count": 1,
   "id": "143f0a93-a674-4700-8b46-245eb72f1627",
   "metadata": {},
   "outputs": [
    {
     "name": "stdout",
     "output_type": "stream",
     "text": [
      "hello\n"
     ]
    }
   ],
   "source": [
    "print(\"hello\")"
   ]
  },
  {
   "cell_type": "code",
   "execution_count": null,
   "id": "828ed92e-5260-4d76-aa3e-5e070905c1f2",
   "metadata": {},
   "outputs": [],
   "source": [
    "#conda activate acne_detection"
   ]
  },
  {
   "cell_type": "code",
   "execution_count": 1,
   "id": "4200acf6-9354-42ff-b4cc-a72cfb3aae3a",
   "metadata": {},
   "outputs": [
    {
     "name": "stdout",
     "output_type": "stream",
     "text": [
      "Collecting labelimg\n",
      "  Downloading labelImg-1.8.6.tar.gz (247 kB)\n",
      "  Preparing metadata (setup.py) ... \u001b[?25done\n",
      "\u001b[?25hCollecting pyqt5 (from labelimg)\n",
      "  Downloading PyQt5-5.15.11-cp38-abi3-macosx_11_0_arm64.whl.metadata (2.1 kB)\n",
      "Collecting lxml (from labelimg)\n",
      "  Downloading lxml-5.3.1-cp39-cp39-macosx_10_9_universal2.whl.metadata (3.7 kB)\n",
      "Collecting PyQt5-sip<13,>=12.15 (from pyqt5->labelimg)\n",
      "  Downloading PyQt5_sip-12.17.0-cp39-cp39-macosx_10_9_universal2.whl.metadata (472 bytes)\n",
      "Collecting PyQt5-Qt5<5.16.0,>=5.15.2 (from pyqt5->labelimg)\n",
      "  Downloading PyQt5_Qt5-5.15.16-py3-none-macosx_11_0_arm64.whl.metadata (536 bytes)\n",
      "Downloading lxml-5.3.1-cp39-cp39-macosx_10_9_universal2.whl (8.1 MB)\n",
      "\u001b[2K   \u001b[90m━━━━━━━━━━━━━━━━━━━━━━━━━━━━━━━━━━━━━━━━\u001b[0m \u001b[32m8.1/8.1 MB\u001b[0m \u001b[31m5.7 MB/s\u001b[0m eta \u001b[36m0:00:00\u001b[0ma \u001b[36m0:00:01\u001b[0m\n",
      "\u001b[?25hDownloading PyQt5-5.15.11-cp38-abi3-macosx_11_0_arm64.whl (6.6 MB)\n",
      "\u001b[2K   \u001b[90m━━━━━━━━━━━━━━━━━━━━━━━━━━━━━━━━━━━━━━━━\u001b[0m \u001b[32m6.6/6.6 MB\u001b[0m \u001b[31m4.5 MB/s\u001b[0m eta \u001b[36m0:00:00\u001b[0ma \u001b[36m0:00:01\u001b[0m\n",
      "Downloading PyQt5_Qt5-5.15.16-py3-none-macosx_11_0_arm64.whl (37.1 MB)\n",
      "\u001b[2K   \u001b[90m━━━━━━━━━━━━━━━━━━━━━━━━━━━━━━━━━━━━━━━━\u001b[0m \u001b[32m37.1/37.1 MB\u001b[0m \u001b[31m8.9 MB/s\u001b[0m eta \u001b[36m0:00:00\u001b[0m00:01\u001b[0m00:01\u001b[0m\n",
      "\u001b[?25hDownloading PyQt5_sip-12.17.0-cp39-cp39-macosx_10_9_universal2.whl (122 kB)\n",
      "Building wheels for collected packages: labelimg\n",
      "  Building wheel for labelimg (setup.py) ... \u001b[?25ldone\n",
      "\u001b[?25h  Created wheel for labelimg: filename=labelImg-1.8.6-py2.py3-none-any.whl size=261576 sha256=8efc5eedbe8b0c0fc631d2a8ad56d1a381049f392c1b23dfb5d636fac86dc28f\n",
      "  Stored in directory: /Users/srinija/Library/Caches/pip/wheels/a0/2d/29/aaf47d232f5b03ec3e64a8432032f328dfdea1714041712bf6\n",
      "Successfully built labelimg\n",
      "Installing collected packages: PyQt5-Qt5, PyQt5-sip, lxml, pyqt5, labelimg\n",
      "Successfully installed PyQt5-Qt5-5.15.16 PyQt5-sip-12.17.0 labelimg-1.8.6 lxml-5.3.1 pyqt5-5.15.11\n",
      "Note: you may need to restart the kernel to use updated packages.\n"
     ]
    }
   ],
   "source": [
    "pip install labelimg"
   ]
  },
  {
   "cell_type": "code",
   "execution_count": null,
   "id": "ae70628a-883a-4535-a661-c54186b1c9a3",
   "metadata": {},
   "outputs": [],
   "source": []
  }
 ],
 "metadata": {
  "kernelspec": {
   "display_name": "Python 3 (ipykernel)",
   "language": "python",
   "name": "python3"
  },
  "language_info": {
   "codemirror_mode": {
    "name": "ipython",
    "version": 3
   },
   "file_extension": ".py",
   "mimetype": "text/x-python",
   "name": "python",
   "nbconvert_exporter": "python",
   "pygments_lexer": "ipython3",
   "version": "3.9.21"
  }
 },
 "nbformat": 4,
 "nbformat_minor": 5
}
